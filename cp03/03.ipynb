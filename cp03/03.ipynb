{
 "cells": [
  {
   "cell_type": "markdown",
   "id": "1a77bc1a",
   "metadata": {},
   "source": [
    "#### 数字和变量"
   ]
  },
  {
   "cell_type": "code",
   "execution_count": 1,
   "id": "e3853828",
   "metadata": {},
   "outputs": [],
   "source": [
    "num1 = 35\n",
    "num2 = 74\n",
    "\n",
    "total = num1 + num2"
   ]
  },
  {
   "cell_type": "code",
   "execution_count": 3,
   "id": "21a3a03c",
   "metadata": {
    "scrolled": false
   },
   "outputs": [
    {
     "name": "stdout",
     "output_type": "stream",
     "text": [
      "Total==>: 109\n"
     ]
    }
   ],
   "source": [
    "print(f\"Total==>: {total}\")"
   ]
  },
  {
   "cell_type": "code",
   "execution_count": 6,
   "id": "05b01264",
   "metadata": {
    "scrolled": true
   },
   "outputs": [
    {
     "name": "stdout",
     "output_type": "stream",
     "text": [
      "reduce==>: -25\n"
     ]
    }
   ],
   "source": [
    "num3 = 99\n",
    "\n",
    "reduce = num2 - num3\n",
    "\n",
    "print(f\"reduce==>: {div}\")"
   ]
  },
  {
   "cell_type": "code",
   "execution_count": 5,
   "id": "12641796",
   "metadata": {},
   "outputs": [
    {
     "name": "stdout",
     "output_type": "stream",
     "text": [
      "Mul==>: 2590\n"
     ]
    }
   ],
   "source": [
    "mul = num1 * num2\n",
    "print(f\"Mul==>: {mul}\")"
   ]
  },
  {
   "cell_type": "code",
   "execution_count": 7,
   "id": "d540dd5d",
   "metadata": {
    "scrolled": true
   },
   "outputs": [
    {
     "name": "stdout",
     "output_type": "stream",
     "text": [
      "Div==>: 1.472972972972973\n"
     ]
    }
   ],
   "source": [
    "div = total / num2\n",
    "print(f\"Div==>: {div}\")"
   ]
  },
  {
   "cell_type": "markdown",
   "id": "d65c3b52",
   "metadata": {},
   "source": [
    "#####  改变变量的值"
   ]
  },
  {
   "cell_type": "code",
   "execution_count": 12,
   "id": "85ba9d7a",
   "metadata": {},
   "outputs": [
    {
     "name": "stdout",
     "output_type": "stream",
     "text": [
      " num1:35,\n",
      " num2:74,\n",
      " num3:99\n"
     ]
    }
   ],
   "source": [
    "print(f\" num1:{num1},\\n num2:{num2},\\n num3:{num3}\")"
   ]
  },
  {
   "cell_type": "code",
   "execution_count": 14,
   "id": "cd25c6e0",
   "metadata": {
    "scrolled": true
   },
   "outputs": [
    {
     "name": "stdout",
     "output_type": "stream",
     "text": [
      " num1:30,\n",
      " num2:74,\n",
      " num3:99\n"
     ]
    }
   ],
   "source": [
    "num1 = 30\n",
    "print(f\" num1:{num1},\\n num2:{num2},\\n num3:{num3}\")"
   ]
  }
 ],
 "metadata": {
  "kernelspec": {
   "display_name": "Python 3 (ipykernel)",
   "language": "python",
   "name": "python3"
  },
  "language_info": {
   "codemirror_mode": {
    "name": "ipython",
    "version": 3
   },
   "file_extension": ".py",
   "mimetype": "text/x-python",
   "name": "python",
   "nbconvert_exporter": "python",
   "pygments_lexer": "ipython3",
   "version": "3.10.0"
  }
 },
 "nbformat": 4,
 "nbformat_minor": 5
}
