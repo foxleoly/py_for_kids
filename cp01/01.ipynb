{
 "cells": [
  {
   "cell_type": "code",
   "execution_count": 5,
   "id": "41d961e4",
   "metadata": {},
   "outputs": [],
   "source": [
    "import sys"
   ]
  },
  {
   "cell_type": "code",
   "execution_count": 10,
   "id": "57b1d734",
   "metadata": {
    "scrolled": false
   },
   "outputs": [
    {
     "name": "stdout",
     "output_type": "stream",
     "text": [
      "linux\n"
     ]
    },
    {
     "data": {
      "text/plain": [
       "'3.10.0 (default, Jan 17 2022, 21:44:22) [GCC 11.1.0]'"
      ]
     },
     "execution_count": 10,
     "metadata": {},
     "output_type": "execute_result"
    }
   ],
   "source": [
    "print(sys.platform)\n",
    "\n",
    "sys.version"
   ]
  },
  {
   "cell_type": "code",
   "execution_count": 17,
   "id": "95304862",
   "metadata": {},
   "outputs": [
    {
     "name": "stdout",
     "output_type": "stream",
     "text": [
      "1. Hello linux\n",
      "1.1 Hello python 3.10.0 (default, Jan 17 2022, 21:44:22) [GCC 11.1.0]\n",
      "2. Hello linux\n",
      "3. Hello linux\n"
     ]
    }
   ],
   "source": [
    "print('1. Hello {0}'.format(sys.platform))\n",
    "print('1.1 Hello python {ver}'.format(ver=sys.version))\n",
    "print(f'2. Hello {sys.platform}')\n",
    "print('3. Hello %s' % sys.platform)"
   ]
  }
 ],
 "metadata": {
  "kernelspec": {
   "display_name": "Python 3 (ipykernel)",
   "language": "python",
   "name": "python3"
  },
  "language_info": {
   "codemirror_mode": {
    "name": "ipython",
    "version": 3
   },
   "file_extension": ".py",
   "mimetype": "text/x-python",
   "name": "python",
   "nbconvert_exporter": "python",
   "pygments_lexer": "ipython3",
   "version": "3.10.0"
  }
 },
 "nbformat": 4,
 "nbformat_minor": 5
}
